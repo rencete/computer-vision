{
  "nbformat": 4,
  "nbformat_minor": 0,
  "metadata": {
    "colab": {
      "name": "CIFAR-10.ipynb",
      "provenance": [],
      "collapsed_sections": [],
      "authorship_tag": "ABX9TyMTOOAxdLvQC4tumdOzfLzQ",
      "include_colab_link": true
    },
    "kernelspec": {
      "name": "python3",
      "display_name": "Python 3"
    },
    "language_info": {
      "name": "python"
    },
    "accelerator": "GPU"
  },
  "cells": [
    {
      "cell_type": "markdown",
      "metadata": {
        "id": "view-in-github",
        "colab_type": "text"
      },
      "source": [
        "<a href=\"https://colab.research.google.com/github/rencete/computer-vision/blob/CIFAR-10/CIFAR-10/CIFAR_10.ipynb\" target=\"_parent\"><img src=\"https://colab.research.google.com/assets/colab-badge.svg\" alt=\"Open In Colab\"/></a>"
      ]
    },
    {
      "cell_type": "markdown",
      "source": [
        "Import libraries"
      ],
      "metadata": {
        "id": "SXE4Atec5WN4"
      }
    },
    {
      "cell_type": "code",
      "execution_count": 1,
      "metadata": {
        "id": "8BIf41cXtWKP"
      },
      "outputs": [],
      "source": [
        "from tensorflow.keras.datasets import cifar10\n",
        "from tensorflow.keras.utils import to_categorical\n",
        "from tensorflow.keras.models import Sequential\n",
        "from tensorflow.keras.layers import Conv2D\n",
        "from tensorflow.keras.layers import MaxPooling2D\n",
        "from tensorflow.keras.layers import Flatten\n",
        "from tensorflow.keras.layers import Dense\n",
        "from tensorflow.keras.optimizers import SGD\n",
        "from tensorflow.keras.preprocessing.image import load_img\n",
        "from tensorflow.keras.preprocessing.image import img_to_array\n",
        "from tensorflow.keras.models import load_model\n",
        "\n",
        "import numpy as np"
      ]
    },
    {
      "cell_type": "code",
      "source": [
        "# Constants\n",
        "MODEL_FILENAME_N_PATH='cifar10_model.h5'\n",
        "MODEL_FIT_VERBOSITY=0\n",
        "MODEL_EVALUATE_VERBOSITY=0\n",
        "TEST_IMAGE_FILENAME_N_PATH='sample.png'"
      ],
      "metadata": {
        "id": "1z_tViTh9SbA"
      },
      "execution_count": 2,
      "outputs": []
    },
    {
      "cell_type": "code",
      "source": [
        "# load train and test dataset\n",
        "def load_dataset():\n",
        "\t# load dataset\n",
        "\t(trainX, trainY), (testX, testY) = cifar10.load_data()\n",
        " \n",
        "  # one hot encode target values\n",
        "\ttrainY = to_categorical(trainY)\n",
        "\ttestY = to_categorical(testY)\n",
        "\treturn trainX, trainY, testX, testY"
      ],
      "metadata": {
        "id": "xDMLNgxk7wUG"
      },
      "execution_count": 3,
      "outputs": []
    },
    {
      "cell_type": "code",
      "source": [
        "# scale pixels\n",
        "def prep_pixels(train, test):\n",
        "\t# convert from integers to floats\n",
        "\ttrain_norm = train.astype('float32')\n",
        "\ttest_norm = test.astype('float32')\n",
        " \n",
        "\t# normalize to range 0-1\n",
        "\ttrain_norm = train_norm / 255.0\n",
        "\ttest_norm = test_norm / 255.0\n",
        "  \n",
        "\t# return normalized images\n",
        "\treturn train_norm, test_norm"
      ],
      "metadata": {
        "id": "r-h-tig7mtui"
      },
      "execution_count": 4,
      "outputs": []
    },
    {
      "cell_type": "code",
      "source": [
        "# define cnn model\n",
        "def define_model():\n",
        "  model = Sequential()\n",
        " \n",
        "  # Add details for hidden layer 1\n",
        "  model.add(Conv2D(32, (3, 3), padding='same', activation='relu', \n",
        "                   kernel_initializer='he_uniform', input_shape=(32, 32, 3)))\n",
        "  model.add(Conv2D(32, (3, 3), padding='same', activation='relu', \n",
        "                   kernel_initializer='he_uniform'))\n",
        "  model.add(MaxPooling2D((2, 2)))\n",
        "\n",
        "  # Add details for hidden layer 2\n",
        "  model.add(Conv2D(64, (3, 3), padding='same', activation='relu', \n",
        "                   kernel_initializer='he_uniform'))\n",
        "  model.add(Conv2D(64, (3, 3), padding='same', activation='relu', \n",
        "                   kernel_initializer='he_uniform'))\n",
        "  model.add(MaxPooling2D((2, 2)))\n",
        "\n",
        "  # Add details for hidden layer 3\n",
        "  model.add(Conv2D(128, (3, 3), padding='same', activation='relu', \n",
        "                   kernel_initializer='he_uniform'))\n",
        "  model.add(Conv2D(128, (3, 3), padding='same', activation='relu', \n",
        "                   kernel_initializer='he_uniform'))\n",
        "  model.add(MaxPooling2D((2, 2)))\n",
        "\n",
        "  # Flatten before connecting to fully interconnected layer for classification\n",
        "  model.add(Flatten())\n",
        "\n",
        "  # Fully connected layer\n",
        "  model.add(Dense(128, activation='relu', kernel_initializer='he_uniform'))\n",
        "\n",
        "  # Output layer\n",
        "  model.add(Dense(10, activation='softmax'))\n",
        "  \n",
        "  # compile model\n",
        "  opt = SGD(learning_rate=0.01, momentum=0.9)\n",
        "  model.compile(optimizer=opt, loss='categorical_crossentropy', metrics=['accuracy'])\n",
        "  return model"
      ],
      "metadata": {
        "id": "tK2ts6v6m9rB"
      },
      "execution_count": 5,
      "outputs": []
    },
    {
      "cell_type": "code",
      "source": [
        "def train_model(model, X, y):\n",
        "  # fit model\n",
        "  model.fit(X, y, epochs=10, batch_size=32, verbose=MODEL_FIT_VERBOSITY)\n",
        "  # save model\n",
        "  model.save(MODEL_FILENAME_N_PATH)"
      ],
      "metadata": {
        "id": "9h_vkDW6MpIb"
      },
      "execution_count": 6,
      "outputs": []
    },
    {
      "cell_type": "code",
      "source": [
        "def evaluate_model(testX, testY):\n",
        "  # Load the saved model\n",
        "  model = load_model(MODEL_FILENAME_N_PATH)\n",
        "\n",
        "  # evaluate model on test dataset\n",
        "  loss, acc = model.evaluate(testX, testY, verbose=MODEL_EVALUATE_VERBOSITY)\n",
        "  \n",
        "  print(\"=\"*80)\n",
        "  print(\"Model evaluation results as follows:\")\n",
        "  print('Loss: %.3f' % (loss * 100.0))\n",
        "  print('Accuracy: %.3f' % (acc * 100.0))\n",
        "  print(\"=\"*80)"
      ],
      "metadata": {
        "id": "HBWLz2NMOI9N"
      },
      "execution_count": 7,
      "outputs": []
    },
    {
      "cell_type": "code",
      "source": [
        "def load_image(filename):\n",
        "  #load the image\n",
        "  img = load_img(filename, color_mode='rgb', target_size=(32, 32))\n",
        "\n",
        "  #convert to array\n",
        "  img = img_to_array(img)\n",
        "\n",
        "  #reshape into a single sample\n",
        "  img = img.reshape(1, 32, 32, 3)\n",
        "\n",
        "  #prepare pixel data\n",
        "  img = img.astype('float32')\n",
        "  img = img / 255.0\n",
        "  return img"
      ],
      "metadata": {
        "id": "SxWiTk577xc9"
      },
      "execution_count": 8,
      "outputs": []
    },
    {
      "cell_type": "code",
      "source": [
        "def name_prediction(value):\n",
        "  names = [\n",
        "           'airplane',\n",
        "           'automobile',\n",
        "           'bird',\n",
        "           'cat',\n",
        "           'deer',\n",
        "           'dog',\n",
        "           'frog',\n",
        "           'horse',\n",
        "           'ship',\n",
        "           'truck'\n",
        "           ]\n",
        "  return names[value]"
      ],
      "metadata": {
        "id": "C6aHRlw3Ehyv"
      },
      "execution_count": 9,
      "outputs": []
    },
    {
      "cell_type": "code",
      "source": [
        "def predict_sample():\n",
        "  # Load the sample image for prediction\n",
        "  img = load_image(TEST_IMAGE_FILENAME_N_PATH)\n",
        "\n",
        "  # Load the saved model\n",
        "  model = load_model(MODEL_FILENAME_N_PATH)\n",
        "\n",
        "  # predict the classification\n",
        "  result = model.predict(img)\n",
        "\n",
        "  prediction = name_prediction(np.argmax(result))\n",
        "  print(\"The sample is predicted to be a(n)\", prediction)"
      ],
      "metadata": {
        "id": "48es3bhGDUWl"
      },
      "execution_count": 10,
      "outputs": []
    },
    {
      "cell_type": "code",
      "source": [
        "# run the test harness for evaluating a model\n",
        "def run_test_harness():\n",
        "  # load dataset\n",
        "  trainX, trainY, testX, testY = load_dataset()\n",
        "  # prepare pixel data\n",
        "  trainX, testX = prep_pixels(trainX, testX)\n",
        "  # define model\n",
        "  model = define_model()\n",
        "\n",
        "  # train and save trained model\n",
        "  train_model(model, trainX, trainY)\n",
        "\n",
        "  # evaluate model performance\n",
        "  evaluate_model(testX, testY)\n",
        "\n",
        "  # test model by making a prediction\n",
        "  predict_sample()"
      ],
      "metadata": {
        "id": "-PEfl6PGtUOk"
      },
      "execution_count": 11,
      "outputs": []
    },
    {
      "cell_type": "code",
      "source": [
        "# entry point, run the test harness\n",
        "run_test_harness()"
      ],
      "metadata": {
        "colab": {
          "base_uri": "https://localhost:8080/"
        },
        "id": "TzG_A80wvWUx",
        "outputId": "04385471-43e6-4a7c-9bb3-dc7db84883cd"
      },
      "execution_count": 12,
      "outputs": [
        {
          "output_type": "stream",
          "name": "stdout",
          "text": [
            "================================================================================\n",
            "Model evaluation results as follows:\n",
            "Loss: 85.765\n",
            "Accuracy: 74.180\n",
            "================================================================================\n",
            "The sample is predicted to be a(n) deer\n"
          ]
        }
      ]
    }
  ]
}